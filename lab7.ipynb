{
  "nbformat": 4,
  "nbformat_minor": 0,
  "metadata": {
    "colab": {
      "provenance": [],
      "authorship_tag": "ABX9TyMfKbqs6sg5jxKOCPGcJHVY",
      "include_colab_link": true
    },
    "kernelspec": {
      "name": "python3",
      "display_name": "Python 3"
    },
    "language_info": {
      "name": "python"
    }
  },
  "cells": [
    {
      "cell_type": "markdown",
      "metadata": {
        "id": "view-in-github",
        "colab_type": "text"
      },
      "source": [
        "<a href=\"https://colab.research.google.com/github/PalomiBollapalli/PnS-LAB/blob/main/lab7.ipynb\" target=\"_parent\"><img src=\"https://colab.research.google.com/assets/colab-badge.svg\" alt=\"Open In Colab\"/></a>"
      ]
    },
    {
      "cell_type": "code",
      "execution_count": 1,
      "metadata": {
        "colab": {
          "base_uri": "https://localhost:8080/"
        },
        "id": "J4N4tkIddnzJ",
        "outputId": "5f82a305-1e12-4dd6-aef2-cbcb2836a7e6"
      },
      "outputs": [
        {
          "output_type": "stream",
          "name": "stdout",
          "text": [
            "Sample Mean: ₹27466.67\n",
            "Sample Standard Deviation: ₹3748.65\n",
            "95% Confidence Interval: (₹25390.73, ₹29542.60)\n",
            "Conclusion: Reject the claim that the average cost is ₹30,000.\n"
          ]
        }
      ],
      "source": [
        "import numpy as np\n",
        "import scipy.stats as stats\n",
        "\n",
        "# Given data\n",
        "data = np.array([25000, 31000, 20000, 28000, 29500, 32000, 21000, 30500,\n",
        "                 27000, 28500, 30000, 23000, 31000, 26000, 29500])\n",
        "\n",
        "# Step 1: Compute sample mean and standard deviation\n",
        "sample_mean = np.mean(data)\n",
        "sample_std = np.std(data, ddof=1)  # Using ddof=1 for sample standard deviation\n",
        "n = len(data)\n",
        "\n",
        "# Step 2: Compute the 95% confidence interval\n",
        "confidence_level = 0.95\n",
        "t_critical = stats.t.ppf((1 + confidence_level) / 2, df=n-1)  # t-score for 95% confidence\n",
        "margin_of_error = t_critical * (sample_std / np.sqrt(n))\n",
        "\n",
        "lower_bound = sample_mean - margin_of_error\n",
        "upper_bound = sample_mean + margin_of_error\n",
        "\n",
        "# Step 3: Hypothesis test assessment\n",
        "claim = 30000\n",
        "reject_claim = not (lower_bound <= claim <= upper_bound)\n",
        "\n",
        "# Print results\n",
        "print(f\"Sample Mean: ₹{sample_mean:.2f}\")\n",
        "print(f\"Sample Standard Deviation: ₹{sample_std:.2f}\")\n",
        "print(f\"95% Confidence Interval: (₹{lower_bound:.2f}, ₹{upper_bound:.2f})\")\n",
        "if reject_claim:\n",
        "    print(\"Conclusion: Reject the claim that the average cost is ₹30,000.\")\n",
        "else:\n",
        "    print(\"Conclusion: Fail to reject the claim that the average cost is ₹30,000.\")\n"
      ]
    }
  ]
}